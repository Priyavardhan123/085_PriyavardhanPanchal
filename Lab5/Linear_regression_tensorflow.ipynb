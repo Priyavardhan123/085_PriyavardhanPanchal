{
  "nbformat": 4,
  "nbformat_minor": 0,
  "metadata": {
    "colab": {
      "name": "Linear_regression_tensorflow.ipynb",
      "provenance": []
    },
    "kernelspec": {
      "name": "python3",
      "display_name": "Python 3"
    },
    "language_info": {
      "name": "python"
    }
  },
  "cells": [
    {
      "cell_type": "code",
      "metadata": {
        "id": "fikw3KNHGDqo"
      },
      "source": [
        "import pandas as pd\n",
        "import numpy as np\n",
        "import tensorflow as tf\n",
        "from sklearn.model_selection import train_test_split"
      ],
      "execution_count": 1,
      "outputs": []
    },
    {
      "cell_type": "code",
      "metadata": {
        "id": "1zX23YexGJnl"
      },
      "source": [
        "# Input (temp, rainfall, humidity)\n",
        "inputs = np.array([[73, 67, 43], [91, 88, 64], [87, 134, 58], [102, 43, 37], [69, 96, 70], [73, 67, 43], [91, 88, 64], [87, 134, 58], [102, 43, 37], [69, 96, 70], [73, 67, 43], [91, 88, 64], [87, 134, 58], [102, 43, 37], [69, 96, 70]], dtype='float32')\n",
        "# Targets (apples, oranges)\n",
        "targets = np.array([[56, 70], [81, 101], [119, 133], [22, 37], [103, 119], \n",
        "                    [56, 70], [81, 101], [119, 133], [22, 37], [103, 119], \n",
        "                    [56, 70], [81, 101], [119, 133], [22, 37], [103, 119]], dtype='float32')\n"
      ],
      "execution_count": 2,
      "outputs": []
    },
    {
      "cell_type": "code",
      "metadata": {
        "id": "OQ2FjlHvI3ou"
      },
      "source": [
        "X = tf.convert_to_tensor(inputs, dtype='float32')\n",
        "Y = tf.convert_to_tensor(targets, dtype='float32')\n",
        "\n",
        "W = tf.Variable(tf.ones([2, 3]), name=\"weight\")\n",
        "\n",
        "b = tf.Variable(tf.zeros([2]), name=\"bias\")"
      ],
      "execution_count": 31,
      "outputs": []
    },
    {
      "cell_type": "code",
      "metadata": {
        "id": "Neu2uv-sjwMs"
      },
      "source": [
        "# Define the model\n",
        "def model(x):\n",
        "    return x @ tf.transpose(W) + b"
      ],
      "execution_count": 34,
      "outputs": []
    },
    {
      "cell_type": "code",
      "metadata": {
        "id": "mOHZih2VNOKr"
      },
      "source": [
        "# Generate predictions\n",
        "preds = model(inputs)"
      ],
      "execution_count": 37,
      "outputs": []
    },
    {
      "cell_type": "code",
      "metadata": {
        "colab": {
          "base_uri": "https://localhost:8080/"
        },
        "id": "nGHcg4JgNVjX",
        "outputId": "fd2ff84a-dbb4-466f-be2c-31ba895176ed"
      },
      "source": [
        "# Compare with targets\n",
        "print(\"Predictions : \", preds)\n",
        "print(\"Targets : \",targets)"
      ],
      "execution_count": 38,
      "outputs": [
        {
          "output_type": "stream",
          "name": "stdout",
          "text": [
            "Predictions :  tf.Tensor(\n",
            "[[183. 183.]\n",
            " [243. 243.]\n",
            " [279. 279.]\n",
            " [182. 182.]\n",
            " [235. 235.]\n",
            " [183. 183.]\n",
            " [243. 243.]\n",
            " [279. 279.]\n",
            " [182. 182.]\n",
            " [235. 235.]\n",
            " [183. 183.]\n",
            " [243. 243.]\n",
            " [279. 279.]\n",
            " [182. 182.]\n",
            " [235. 235.]], shape=(15, 2), dtype=float32)\n",
            "Targets :  [[ 56.  70.]\n",
            " [ 81. 101.]\n",
            " [119. 133.]\n",
            " [ 22.  37.]\n",
            " [103. 119.]\n",
            " [ 56.  70.]\n",
            " [ 81. 101.]\n",
            " [119. 133.]\n",
            " [ 22.  37.]\n",
            " [103. 119.]\n",
            " [ 56.  70.]\n",
            " [ 81. 101.]\n",
            " [119. 133.]\n",
            " [ 22.  37.]\n",
            " [103. 119.]]\n"
          ]
        }
      ]
    },
    {
      "cell_type": "code",
      "metadata": {
        "id": "7IJedXnuI4eC"
      },
      "source": [
        "def mse(y, pred):\n",
        "    return tf.reduce_mean(tf.square(y - pred))"
      ],
      "execution_count": 41,
      "outputs": []
    },
    {
      "cell_type": "code",
      "metadata": {
        "colab": {
          "base_uri": "https://localhost:8080/"
        },
        "id": "4wkpzU7qNott",
        "outputId": "36566b74-6d50-4104-cab4-275cc6eb2f5e"
      },
      "source": [
        "# Compute loss\n",
        "loss = mse(preds, targets)\n",
        "print(loss)"
      ],
      "execution_count": 42,
      "outputs": [
        {
          "output_type": "stream",
          "name": "stdout",
          "text": [
            "tf.Tensor(19972.7, shape=(), dtype=float32)\n"
          ]
        }
      ]
    },
    {
      "cell_type": "code",
      "metadata": {
        "colab": {
          "base_uri": "https://localhost:8080/"
        },
        "id": "EQerh14gN0eR",
        "outputId": "84a13c3b-2f48-4701-cd79-fbbcbd46d26c"
      },
      "source": [
        "# compute gradients\n",
        "x_shape = inputs.shape\n",
        "\n",
        "biases_grad = (preds-targets)*2/x_shape[0]\n",
        "weights_grad = (tf.matmul(tf.transpose((preds-targets)),inputs))*2/x_shape[0]\n",
        "\n",
        "print(weights_grad)\n",
        "print(biases_grad)"
      ],
      "execution_count": 55,
      "outputs": [
        {
          "output_type": "stream",
          "name": "stdout",
          "text": [
            "tf.Tensor(\n",
            "[[ 67.923775 -53.69639  -15.450201]\n",
            " [ 67.00281  -38.93234  -37.985188]], shape=(2, 3), dtype=float32)\n",
            "tf.Tensor(\n",
            "[[ 0.2333547   0.12694295]\n",
            " [ 0.17021891 -0.1646698 ]\n",
            " [-0.18762308  0.13113403]\n",
            " [ 0.32686132  0.48244527]\n",
            " [-0.38985798 -0.47196656]\n",
            " [ 0.2333547   0.12694295]\n",
            " [ 0.17021891 -0.1646698 ]\n",
            " [-0.18762308  0.13113403]\n",
            " [ 0.32686132  0.48244527]\n",
            " [-0.38985798 -0.47196656]\n",
            " [ 0.2333547   0.12694295]\n",
            " [ 0.17021891 -0.1646698 ]\n",
            " [-0.18762308  0.13113403]\n",
            " [ 0.32686132  0.48244527]\n",
            " [-0.38985798 -0.47196656]], shape=(15, 2), dtype=float32)\n"
          ]
        }
      ]
    },
    {
      "cell_type": "code",
      "metadata": {
        "colab": {
          "base_uri": "https://localhost:8080/"
        },
        "id": "6dsQgGK-OKnY",
        "outputId": "18b870e7-7ab4-4ff2-deba-b22278da22d6"
      },
      "source": [
        "# Adjust weights\n",
        "W = W - weights_grad * 1e-5\n",
        "b = b - biases_grad * 1e-5\n",
        "\n",
        "print(W)\n",
        "print(b)"
      ],
      "execution_count": 49,
      "outputs": [
        {
          "output_type": "stream",
          "name": "stdout",
          "text": [
            "tf.Tensor(\n",
            "[[-0.01377591 -0.02011204  0.35569596]\n",
            " [ 0.093328    0.08796793  0.42560005]], shape=(2, 3), dtype=float32)\n",
            "tf.Tensor(\n",
            "[[-0.000508 -0.000452]\n",
            " [-0.000648 -0.000568]\n",
            " [-0.00064  -0.000584]\n",
            " [-0.00064  -0.00058 ]\n",
            " [-0.000528 -0.000464]\n",
            " [-0.000508 -0.000452]\n",
            " [-0.000648 -0.000568]\n",
            " [-0.00064  -0.000584]\n",
            " [-0.00064  -0.00058 ]\n",
            " [-0.000528 -0.000464]\n",
            " [-0.000508 -0.000452]\n",
            " [-0.000648 -0.000568]\n",
            " [-0.00064  -0.000584]\n",
            " [-0.00064  -0.00058 ]\n",
            " [-0.000528 -0.000464]], shape=(15, 2), dtype=float32)\n"
          ]
        }
      ]
    },
    {
      "cell_type": "code",
      "metadata": {
        "colab": {
          "base_uri": "https://localhost:8080/"
        },
        "id": "wbGjr9CwOgGb",
        "outputId": "a20cedd2-2a8c-4510-e0c9-750b30c0bd48"
      },
      "source": [
        "# Calculate loss\n",
        "preds = model(inputs)\n",
        "loss = mse(preds, targets)\n",
        "print(loss)"
      ],
      "execution_count": 50,
      "outputs": [
        {
          "output_type": "stream",
          "name": "stdout",
          "text": [
            "tf.Tensor(4097.9634, shape=(), dtype=float32)\n"
          ]
        }
      ]
    },
    {
      "cell_type": "code",
      "metadata": {
        "id": "UDsYLhTtJRE-"
      },
      "source": [
        "for i in range(200):\n",
        "    preds = model(inputs)\n",
        "    loss = mse(preds, targets)\n",
        "    \n",
        "    biases_grad = ((((inputs@tf.transpose(W))+b)-targets))*2/x_shape[0]\n",
        "    weights_grad = (tf.matmul(tf.transpose((((inputs@tf.transpose(W))+b)-targets)),inputs))*2/x_shape[0]\n",
        "\n",
        "    W -= weights_grad * 1e-5\n",
        "    b -= biases_grad * 1e-5"
      ],
      "execution_count": 56,
      "outputs": []
    },
    {
      "cell_type": "code",
      "metadata": {
        "colab": {
          "base_uri": "https://localhost:8080/"
        },
        "id": "kcAPhzpSOrun",
        "outputId": "4fcfdb0e-de26-45fd-88ee-f650bdb7d946"
      },
      "source": [
        "# Calculate loss\n",
        "preds = model(inputs)\n",
        "loss = mse(preds, targets)\n",
        "print(loss)"
      ],
      "execution_count": 57,
      "outputs": [
        {
          "output_type": "stream",
          "name": "stdout",
          "text": [
            "tf.Tensor(1.3712609, shape=(), dtype=float32)\n"
          ]
        }
      ]
    },
    {
      "cell_type": "code",
      "metadata": {
        "colab": {
          "base_uri": "https://localhost:8080/"
        },
        "id": "GVNI8o3SOw-n",
        "outputId": "26e24bc1-763e-4417-b944-9c7267234301"
      },
      "source": [
        "# Print predictions\n",
        "print(preds)\n",
        "print(targets)"
      ],
      "execution_count": 58,
      "outputs": [
        {
          "output_type": "stream",
          "name": "stdout",
          "text": [
            "tf.Tensor(\n",
            "[[ 57.235588  70.45233 ]\n",
            " [ 81.99816   99.81644 ]\n",
            " [119.052246 134.66989 ]\n",
            " [ 21.469795  37.75357 ]\n",
            " [101.33256  117.22136 ]\n",
            " [ 57.235588  70.45233 ]\n",
            " [ 81.99816   99.81644 ]\n",
            " [119.052246 134.66989 ]\n",
            " [ 21.469795  37.75357 ]\n",
            " [101.33256  117.22136 ]\n",
            " [ 57.235588  70.45233 ]\n",
            " [ 81.99816   99.81644 ]\n",
            " [119.052246 134.66989 ]\n",
            " [ 21.469795  37.75357 ]\n",
            " [101.33256  117.22136 ]], shape=(15, 2), dtype=float32)\n",
            "[[ 56.  70.]\n",
            " [ 81. 101.]\n",
            " [119. 133.]\n",
            " [ 22.  37.]\n",
            " [103. 119.]\n",
            " [ 56.  70.]\n",
            " [ 81. 101.]\n",
            " [119. 133.]\n",
            " [ 22.  37.]\n",
            " [103. 119.]\n",
            " [ 56.  70.]\n",
            " [ 81. 101.]\n",
            " [119. 133.]\n",
            " [ 22.  37.]\n",
            " [103. 119.]]\n"
          ]
        }
      ]
    },
    {
      "cell_type": "code",
      "metadata": {
        "id": "v-cifQIzO0o2"
      },
      "source": [
        ""
      ],
      "execution_count": null,
      "outputs": []
    }
  ]
}