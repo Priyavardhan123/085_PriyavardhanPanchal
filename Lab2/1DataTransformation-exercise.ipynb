{
 "cells": [
  {
   "cell_type": "markdown",
   "metadata": {
    "colab_type": "text",
    "id": "CZHRayZscPH8"
   },
   "source": [
    "Steps for Data Transformation\n",
    "\n",
    "1. Import Libraries\n",
    "2. Load Data\n",
    "3. Seprate Input and Output attributes\n",
    "4. Perform scaling (Min-Max Normalization)\n",
    "5. Perform Standardization\n"
   ]
  },
  {
   "cell_type": "code",
   "execution_count": 7,
   "metadata": {
    "colab": {
     "base_uri": "https://localhost:8080/",
     "height": 503
    },
    "colab_type": "code",
    "executionInfo": {
     "elapsed": 1779,
     "status": "ok",
     "timestamp": 1594649592846,
     "user": {
      "displayName": "Hariom Pandya",
      "photoUrl": "https://lh3.googleusercontent.com/a-/AOh14Gg8d7lqNqBxgfXVdhraKxXVYdefhGJQ6fR34vxZkw=s64",
      "userId": "14308869011554137018"
     },
     "user_tz": -330
    },
    "id": "k7ojSjUMcPIE",
    "outputId": "68e9b067-9afd-40ae-b560-40e293c07379"
   },
   "outputs": [
    {
     "name": "stdout",
     "output_type": "stream",
     "text": [
      "\n",
      "Data :\n",
      "       Unnamed: 0  Price   Age     KM FuelType   HP  MetColor  Automatic    CC  \\\n",
      "0              0  13500  23.0  46986   Diesel   90       1.0          0  2000   \n",
      "1              1  13750  23.0  72937   Diesel   90       1.0          0  2000   \n",
      "2              2  13950  24.0  41711   Diesel   90       NaN          0  2000   \n",
      "3              3  14950  26.0  48000   Diesel   90       0.0          0  2000   \n",
      "4              4  13750  30.0  38500   Diesel   90       0.0          0  2000   \n",
      "...          ...    ...   ...    ...      ...  ...       ...        ...   ...   \n",
      "1431        1431   7500   NaN  20544   Petrol   86       1.0          0  1300   \n",
      "1432        1432  10845  72.0     ??   Petrol   86       0.0          0  1300   \n",
      "1433        1433   8500   NaN  17016   Petrol   86       0.0          0  1300   \n",
      "1434        1434   7250  70.0     ??      NaN   86       1.0          0  1300   \n",
      "1435        1435   6950  76.0      1   Petrol  110       0.0          0  1600   \n",
      "\n",
      "      Doors  Weight  \n",
      "0     three    1165  \n",
      "1         3    1165  \n",
      "2         3    1165  \n",
      "3         3    1165  \n",
      "4         3    1170  \n",
      "...     ...     ...  \n",
      "1431      3    1025  \n",
      "1432      3    1015  \n",
      "1433      3    1015  \n",
      "1434      3    1015  \n",
      "1435      5    1114  \n",
      "\n",
      "[1436 rows x 11 columns]\n",
      "\n",
      "Data statistics\n",
      "         Unnamed: 0         Price          Age     MetColor    Automatic  \\\n",
      "count  1436.000000   1436.000000  1336.000000  1286.000000  1436.000000   \n",
      "mean    717.500000  10730.824513    55.672156     0.674961     0.055710   \n",
      "std     414.681806   3626.964585    18.589804     0.468572     0.229441   \n",
      "min       0.000000   4350.000000     1.000000     0.000000     0.000000   \n",
      "25%     358.750000   8450.000000    43.000000     0.000000     0.000000   \n",
      "50%     717.500000   9900.000000    60.000000     1.000000     0.000000   \n",
      "75%    1076.250000  11950.000000    70.000000     1.000000     0.000000   \n",
      "max    1435.000000  32500.000000    80.000000     1.000000     1.000000   \n",
      "\n",
      "                CC      Weight  \n",
      "count  1436.000000  1436.00000  \n",
      "mean   1566.827994  1072.45961  \n",
      "std     187.182436    52.64112  \n",
      "min    1300.000000  1000.00000  \n",
      "25%    1400.000000  1040.00000  \n",
      "50%    1600.000000  1070.00000  \n",
      "75%    1600.000000  1085.00000  \n",
      "max    2000.000000  1615.00000  \n",
      "\n",
      "\n",
      "Input : \n",
      " [[23.0 '46986' 'Diesel' ... 2000 'three' 1165]\n",
      " [23.0 '72937' 'Diesel' ... 2000 '3' 1165]\n",
      " [24.0 '41711' 'Diesel' ... 2000 '3' 1165]\n",
      " ...\n",
      " [nan '17016' 'Petrol' ... 1300 '3' 1015]\n",
      " [70.0 '??' nan ... 1300 '3' 1015]\n",
      " [76.0 '1' 'Petrol' ... 1600 '5' 1114]]\n",
      "\n",
      "\n",
      "Output: \n",
      " [13500 13750 13950 ...  8500  7250  6950]\n",
      "\n",
      "\n",
      "X for transformation : \n",
      " [[13500.    23.]\n",
      " [13750.    23.]\n",
      " [13950.    24.]\n",
      " ...\n",
      " [ 8500.    nan]\n",
      " [ 7250.    70.]\n",
      " [ 6950.    76.]]\n"
     ]
    }
   ],
   "source": [
    "# Step 1: Import Libraries\n",
    "\n",
    "import numpy as np \n",
    "import pandas as pd\n",
    "from sklearn.preprocessing import MinMaxScaler, StandardScaler\n",
    "\n",
    "# Step 2: Load Data\n",
    "        \n",
    "datasets = pd.read_csv('Datasets/Exercise-CarData.csv') \n",
    "print(\"\\nData :\\n\",datasets)\n",
    "print(\"\\nData statistics\\n\",datasets.describe())\n",
    "\n",
    "# Step 3: Seprate Input and Output attributes\n",
    "\n",
    "X = datasets.iloc[:, 2:].values \n",
    "  \n",
    "Y = datasets.iloc[:, 1].values \n",
    "\n",
    "print(\"\\n\\nInput : \\n\", X) \n",
    "print(\"\\n\\nOutput: \\n\", Y) \n",
    "\n",
    "X_new = datasets.iloc[:,1:3].values\n",
    "print(\"\\n\\nX for transformation : \\n\", X_new)"
   ]
  },
  {
   "cell_type": "code",
   "execution_count": 8,
   "metadata": {
    "colab": {
     "base_uri": "https://localhost:8080/",
     "height": 260
    },
    "colab_type": "code",
    "executionInfo": {
     "elapsed": 1760,
     "status": "ok",
     "timestamp": 1594649592850,
     "user": {
      "displayName": "Hariom Pandya",
      "photoUrl": "https://lh3.googleusercontent.com/a-/AOh14Gg8d7lqNqBxgfXVdhraKxXVYdefhGJQ6fR34vxZkw=s64",
      "userId": "14308869011554137018"
     },
     "user_tz": -330
    },
    "id": "9GWlDG-6cPIs",
    "outputId": "2964b248-9fdb-45b5-d434-43795bacbcc1"
   },
   "outputs": [
    {
     "name": "stdout",
     "output_type": "stream",
     "text": [
      "\n",
      "\n",
      "Scaled X : \n",
      " [[0.3250444  0.27848101]\n",
      " [0.3339254  0.27848101]\n",
      " [0.3410302  0.29113924]\n",
      " ...\n",
      " [0.14742451        nan]\n",
      " [0.10301954 0.87341772]\n",
      " [0.09236234 0.94936709]]\n"
     ]
    }
   ],
   "source": [
    "# Step 4 : Perform scaling on Price and Age\n",
    "\n",
    "scaler = MinMaxScaler()\n",
    "X_scaled = scaler.fit_transform(X_new)\n",
    "\n",
    "print(\"\\n\\nScaled X : \\n\", X_scaled)"
   ]
  },
  {
   "cell_type": "code",
   "execution_count": 9,
   "metadata": {
    "colab": {
     "base_uri": "https://localhost:8080/",
     "height": 260
    },
    "colab_type": "code",
    "executionInfo": {
     "elapsed": 1746,
     "status": "ok",
     "timestamp": 1594649592855,
     "user": {
      "displayName": "Hariom Pandya",
      "photoUrl": "https://lh3.googleusercontent.com/a-/AOh14Gg8d7lqNqBxgfXVdhraKxXVYdefhGJQ6fR34vxZkw=s64",
      "userId": "14308869011554137018"
     },
     "user_tz": -330
    },
    "id": "1Vm28hrUcPJI",
    "outputId": "a2f3d98d-b01d-48e2-fd1e-2c7083625779"
   },
   "outputs": [
    {
     "name": "stdout",
     "output_type": "stream",
     "text": [
      "\n",
      "\n",
      "Standardized X : \n",
      " [[ 0.76376268 -1.75818903]\n",
      " [ 0.83271485 -1.75818903]\n",
      " [ 0.88787659 -1.70437596]\n",
      " ...\n",
      " [-0.6152808          nan]\n",
      " [-0.96004167  0.7710253 ]\n",
      " [-1.04278428  1.09390373]]\n"
     ]
    }
   ],
   "source": [
    "# Step 5 : Perform standardization on Price and Age\n",
    "\n",
    "std = StandardScaler()\n",
    "X_std = std.fit_transform(X_new)\n",
    "print(\"\\n\\nStandardized X : \\n\", X_std)"
   ]
  },
  {
   "cell_type": "code",
   "execution_count": null,
   "metadata": {},
   "outputs": [],
   "source": []
  }
 ],
 "metadata": {
  "colab": {
   "name": "1DataTransformation.ipynb",
   "provenance": []
  },
  "kernelspec": {
   "display_name": "Python 3",
   "language": "python",
   "name": "python3"
  },
  "language_info": {
   "codemirror_mode": {
    "name": "ipython",
    "version": 3
   },
   "file_extension": ".py",
   "mimetype": "text/x-python",
   "name": "python",
   "nbconvert_exporter": "python",
   "pygments_lexer": "ipython3",
   "version": "3.6.9"
  }
 },
 "nbformat": 4,
 "nbformat_minor": 1
}
