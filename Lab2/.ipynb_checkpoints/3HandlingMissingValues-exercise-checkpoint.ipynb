{
 "cells": [
  {
   "cell_type": "markdown",
   "metadata": {
    "colab_type": "text",
    "id": "FsA-4SSacTLa"
   },
   "source": [
    "Steps for Handling the missing value\n",
    "\n",
    "1. Import Libraries\n",
    "2. Load data\n",
    "3. Seprate Input and Output attributes\n",
    "4. Find the missing values and handle it in either way\n",
    "    a. Removing data\n",
    "    b. Imputation\n"
   ]
  },
  {
   "cell_type": "code",
   "execution_count": 20,
   "metadata": {
    "colab": {
     "base_uri": "https://localhost:8080/",
     "height": 469
    },
    "colab_type": "code",
    "executionInfo": {
     "elapsed": 1453,
     "status": "ok",
     "timestamp": 1594650509420,
     "user": {
      "displayName": "Hariom Pandya",
      "photoUrl": "https://lh3.googleusercontent.com/a-/AOh14Gg8d7lqNqBxgfXVdhraKxXVYdefhGJQ6fR34vxZkw=s64",
      "userId": "14308869011554137018"
     },
     "user_tz": -330
    },
    "id": "g87-5JKocTLg",
    "outputId": "010ed200-a521-4c66-954f-2d1266bc4061"
   },
   "outputs": [
    {
     "name": "stdout",
     "output_type": "stream",
     "text": [
      "\n",
      "Data :\n",
      "       Unnamed: 0  Price   Age       KM FuelType   HP  MetColor  Automatic  \\\n",
      "0            NaN  13500  23.0  46986.0   Diesel   90       1.0        NaN   \n",
      "1            1.0  13750  23.0  72937.0   Diesel   90       1.0        NaN   \n",
      "2            2.0  13950  24.0  41711.0   Diesel   90       NaN        NaN   \n",
      "3            3.0  14950  26.0  48000.0   Diesel   90       NaN        NaN   \n",
      "4            4.0  13750  30.0  38500.0   Diesel   90       NaN        NaN   \n",
      "...          ...    ...   ...      ...      ...  ...       ...        ...   \n",
      "1431      1431.0   7500   NaN  20544.0   Petrol   86       1.0        NaN   \n",
      "1432      1432.0  10845  72.0      NaN   Petrol   86       NaN        NaN   \n",
      "1433      1433.0   8500   NaN  17016.0   Petrol   86       NaN        NaN   \n",
      "1434      1434.0   7250  70.0      NaN      NaN   86       1.0        NaN   \n",
      "1435      1435.0   6950  76.0      1.0   Petrol  110       NaN        NaN   \n",
      "\n",
      "        CC  Doors  Weight  \n",
      "0     2000  three    1165  \n",
      "1     2000      3    1165  \n",
      "2     2000      3    1165  \n",
      "3     2000      3    1165  \n",
      "4     2000      3    1170  \n",
      "...    ...    ...     ...  \n",
      "1431  1300      3    1025  \n",
      "1432  1300      3    1015  \n",
      "1433  1300      3    1015  \n",
      "1434  1300      3    1015  \n",
      "1435  1600      5    1114  \n",
      "\n",
      "[1436 rows x 11 columns]\n",
      "\n",
      "Data statistics\n",
      "         Unnamed: 0         Price          Age             KM  MetColor  \\\n",
      "count  1435.000000   1436.000000  1336.000000    1421.000000     868.0   \n",
      "mean    718.000000  10730.824513    55.672156   68647.239972       1.0   \n",
      "std     414.393131   3626.964585    18.589804   37333.023589       0.0   \n",
      "min       1.000000   4350.000000     1.000000       1.000000       1.0   \n",
      "25%     359.500000   8450.000000    43.000000   43210.000000       1.0   \n",
      "50%     718.000000   9900.000000    60.000000   63634.000000       1.0   \n",
      "75%    1076.500000  11950.000000    70.000000   87000.000000       1.0   \n",
      "max    1435.000000  32500.000000    80.000000  243000.000000       1.0   \n",
      "\n",
      "       Automatic           CC      Weight  \n",
      "count       80.0  1436.000000  1436.00000  \n",
      "mean         1.0  1566.827994  1072.45961  \n",
      "std          0.0   187.182436    52.64112  \n",
      "min          1.0  1300.000000  1000.00000  \n",
      "25%          1.0  1400.000000  1040.00000  \n",
      "50%          1.0  1600.000000  1070.00000  \n",
      "75%          1.0  1600.000000  1085.00000  \n",
      "max          1.0  2000.000000  1615.00000  \n"
     ]
    }
   ],
   "source": [
    "# Step 1: Import Libraries\n",
    "\n",
    "import numpy as np \n",
    "import pandas as pd\n",
    "from sklearn.impute import SimpleImputer \n",
    "\n",
    "# Step 2: Load Data\n",
    "        \n",
    "datasets = pd.read_csv('Datasets/Exercise-CarData.csv', na_values=['??',0]) \n",
    "print(\"\\nData :\\n\",datasets)\n",
    "print(\"\\nData statistics\\n\",datasets.describe())"
   ]
  },
  {
   "cell_type": "code",
   "execution_count": 21,
   "metadata": {
    "colab": {
     "base_uri": "https://localhost:8080/",
     "height": 347
    },
    "colab_type": "code",
    "executionInfo": {
     "elapsed": 2140,
     "status": "ok",
     "timestamp": 1594650510136,
     "user": {
      "displayName": "Hariom Pandya",
      "photoUrl": "https://lh3.googleusercontent.com/a-/AOh14Gg8d7lqNqBxgfXVdhraKxXVYdefhGJQ6fR34vxZkw=s64",
      "userId": "14308869011554137018"
     },
     "user_tz": -330
    },
    "id": "-olzGfOycTL_",
    "outputId": "f5cc92fd-b339-4948-a57b-b97db14d24da"
   },
   "outputs": [
    {
     "name": "stdout",
     "output_type": "stream",
     "text": [
      "\n",
      "\n",
      "Input : \n",
      " [[23.0 46986.0 'Diesel' ... 2000 'three' 1165]\n",
      " [23.0 72937.0 'Diesel' ... 2000 '3' 1165]\n",
      " [24.0 41711.0 'Diesel' ... 2000 '3' 1165]\n",
      " ...\n",
      " [nan 17016.0 'Petrol' ... 1300 '3' 1015]\n",
      " [70.0 nan nan ... 1300 '3' 1015]\n",
      " [76.0 1.0 'Petrol' ... 1600 '5' 1114]]\n",
      "\n",
      "\n",
      "Output: \n",
      " [13500 13750 13950 ...  8500  7250  6950]\n"
     ]
    }
   ],
   "source": [
    "# Step 3: Seprate Input and Output attributes\n",
    "\n",
    "# All rows, all columns except last \n",
    "X = datasets.iloc[:, 2:].values \n",
    "  \n",
    "# Only last column  \n",
    "Y = datasets.iloc[:, 1].values \n",
    "\n",
    "print(\"\\n\\nInput : \\n\", X) \n",
    "print(\"\\n\\nOutput: \\n\", Y) "
   ]
  },
  {
   "cell_type": "code",
   "execution_count": 18,
   "metadata": {
    "colab": {
     "base_uri": "https://localhost:8080/",
     "height": 243
    },
    "colab_type": "code",
    "executionInfo": {
     "elapsed": 2128,
     "status": "ok",
     "timestamp": 1594650510142,
     "user": {
      "displayName": "Hariom Pandya",
      "photoUrl": "https://lh3.googleusercontent.com/a-/AOh14Gg8d7lqNqBxgfXVdhraKxXVYdefhGJQ6fR34vxZkw=s64",
      "userId": "14308869011554137018"
     },
     "user_tz": -330
    },
    "id": "vdC-3fKvcTMa",
    "outputId": "54a378f0-94c9-415b-afc5-6ba41590b23f"
   },
   "outputs": [
    {
     "name": "stdout",
     "output_type": "stream",
     "text": [
      "\n",
      "New Data :       Unnamed: 0  Price   Age       KM FuelType   HP  MetColor  Automatic  \\\n",
      "0              0  13500  23.0  46986.0   Diesel   90       1.0          0   \n",
      "1              1  13750  23.0  72937.0   Diesel   90       1.0          0   \n",
      "2              2  13950  24.0  41711.0   Diesel   90       NaN          0   \n",
      "3              3  14950  26.0  48000.0   Diesel   90       0.0          0   \n",
      "4              4  13750  30.0  38500.0   Diesel   90       0.0          0   \n",
      "...          ...    ...   ...      ...      ...  ...       ...        ...   \n",
      "1431        1431   7500   NaN  20544.0   Petrol   86       1.0          0   \n",
      "1432        1432  10845  72.0      NaN   Petrol   86       0.0          0   \n",
      "1433        1433   8500   NaN  17016.0   Petrol   86       0.0          0   \n",
      "1434        1434   7250  70.0      NaN      NaN   86       1.0          0   \n",
      "1435        1435   6950  76.0      1.0   Petrol  110       0.0          0   \n",
      "\n",
      "        CC  Doors  Weight  \n",
      "0     2000  three    1165  \n",
      "1     2000      3    1165  \n",
      "2     2000      3    1165  \n",
      "3     2000      3    1165  \n",
      "4     2000      3    1170  \n",
      "...    ...    ...     ...  \n",
      "1431  1300      3    1025  \n",
      "1432  1300      3    1015  \n",
      "1433  1300      3    1015  \n",
      "1434  1300      3    1015  \n",
      "1435  1600      5    1114  \n",
      "\n",
      "[1436 rows x 11 columns]\n"
     ]
    }
   ],
   "source": [
    "# Step 4: Find the missing values and handle it in either way\n",
    "\n",
    "# 4a. Removing the row with all null values\n",
    "\n",
    "datasets.dropna(how='all',inplace=True)\n",
    "print(\"\\nNew Data :\",datasets)"
   ]
  },
  {
   "cell_type": "code",
   "execution_count": 24,
   "metadata": {
    "colab": {
     "base_uri": "https://localhost:8080/",
     "height": 278
    },
    "colab_type": "code",
    "executionInfo": {
     "elapsed": 2113,
     "status": "ok",
     "timestamp": 1594650510145,
     "user": {
      "displayName": "Hariom Pandya",
      "photoUrl": "https://lh3.googleusercontent.com/a-/AOh14Gg8d7lqNqBxgfXVdhraKxXVYdefhGJQ6fR34vxZkw=s64",
      "userId": "14308869011554137018"
     },
     "user_tz": -330
    },
    "id": "NEvm1o4acTMv",
    "outputId": "0bc9667c-9794-4d0f-a214-becc2e466de0"
   },
   "outputs": [
    {
     "name": "stdout",
     "output_type": "stream",
     "text": [
      "\n",
      "\n",
      "New Input with Mean Value for NaN : \n",
      "\n",
      " [[23.0 46986.0 'Diesel' ... 2000 'three' 1165]\n",
      " [23.0 72937.0 'Diesel' ... 2000 '3' 1165]\n",
      " [24.0 41711.0 'Diesel' ... 2000 '3' 1165]\n",
      " ...\n",
      " [55.67215568862275 17016.0 'Petrol' ... 1300 '3' 1015]\n",
      " [70.0 68647.23997185081 nan ... 1300 '3' 1015]\n",
      " [76.0 1.0 'Petrol' ... 1600 '5' 1114]]\n"
     ]
    }
   ],
   "source": [
    "# 4b. Imputation (Replacing null values with mean value of that attribute)\n",
    "\n",
    "new_X = datasets.iloc[:, 2:].values \n",
    "  \n",
    "new_Y = datasets.iloc[:, 1].values \n",
    "\n",
    "\n",
    "# Using Imputer function to replace NaN values with mean of that parameter value \n",
    "imputer = SimpleImputer(missing_values = np.nan,strategy = \"mean\")\n",
    "\n",
    "# Fitting the data, function learns the stats \n",
    "imputer = imputer.fit(new_X[:, 0:2]) \n",
    "  \n",
    "# fit_transform() will execute those stats on the input ie. X[:, 1:3] \n",
    "new_X[:, 0:2] = imputer.transform(new_X[:, 0:2]) \n",
    "  \n",
    "# filling the missing value with mean \n",
    "print(\"\\n\\nNew Input with Mean Value for NaN : \\n\\n\", new_X) \n",
    "\n"
   ]
  },
  {
   "cell_type": "code",
   "execution_count": 4,
   "metadata": {
    "colab": {},
    "colab_type": "code",
    "executionInfo": {
     "elapsed": 2108,
     "status": "ok",
     "timestamp": 1594650510148,
     "user": {
      "displayName": "Hariom Pandya",
      "photoUrl": "https://lh3.googleusercontent.com/a-/AOh14Gg8d7lqNqBxgfXVdhraKxXVYdefhGJQ6fR34vxZkw=s64",
      "userId": "14308869011554137018"
     },
     "user_tz": -330
    },
    "id": "jyIjytp5cTM_"
   },
   "outputs": [],
   "source": []
  }
 ],
 "metadata": {
  "colab": {
   "name": "3HandlingMissingValues.ipynb",
   "provenance": []
  },
  "kernelspec": {
   "display_name": "Python 3",
   "language": "python",
   "name": "python3"
  },
  "language_info": {
   "codemirror_mode": {
    "name": "ipython",
    "version": 3
   },
   "file_extension": ".py",
   "mimetype": "text/x-python",
   "name": "python",
   "nbconvert_exporter": "python",
   "pygments_lexer": "ipython3",
   "version": "3.6.9"
  }
 },
 "nbformat": 4,
 "nbformat_minor": 1
}
