{
 "cells": [
  {
   "cell_type": "markdown",
   "metadata": {
    "colab_type": "text",
    "id": "jie6UpTRcP3s"
   },
   "source": [
    "Steps for Handling Categorical Data\n",
    "\n",
    "1. Import Libraries\n",
    "2. Load Data\n",
    "3. Seprate Input and Output attributes\n",
    "4. Convert the categorical data into numerical data"
   ]
  },
  {
   "cell_type": "code",
   "execution_count": 1,
   "metadata": {
    "colab": {
     "base_uri": "https://localhost:8080/",
     "height": 451
    },
    "colab_type": "code",
    "executionInfo": {
     "elapsed": 1421,
     "status": "ok",
     "timestamp": 1594649646018,
     "user": {
      "displayName": "Hariom Pandya",
      "photoUrl": "https://lh3.googleusercontent.com/a-/AOh14Gg8d7lqNqBxgfXVdhraKxXVYdefhGJQ6fR34vxZkw=s64",
      "userId": "14308869011554137018"
     },
     "user_tz": -330
    },
    "id": "zniC8WihcP3z",
    "outputId": "afe88dff-5579-4de4-a0ef-add61be3c3cc"
   },
   "outputs": [
    {
     "name": "stdout",
     "output_type": "stream",
     "text": [
      "\n",
      "Data :\n",
      "       Unnamed: 0  Price   Age     KM FuelType   HP  MetColor  Automatic    CC  \\\n",
      "0              0  13500  23.0  46986   Diesel   90       1.0          0  2000   \n",
      "1              1  13750  23.0  72937   Diesel   90       1.0          0  2000   \n",
      "2              2  13950  24.0  41711   Diesel   90       NaN          0  2000   \n",
      "3              3  14950  26.0  48000   Diesel   90       0.0          0  2000   \n",
      "4              4  13750  30.0  38500   Diesel   90       0.0          0  2000   \n",
      "...          ...    ...   ...    ...      ...  ...       ...        ...   ...   \n",
      "1431        1431   7500   NaN  20544   Petrol   86       1.0          0  1300   \n",
      "1432        1432  10845  72.0     ??   Petrol   86       0.0          0  1300   \n",
      "1433        1433   8500   NaN  17016   Petrol   86       0.0          0  1300   \n",
      "1434        1434   7250  70.0     ??      NaN   86       1.0          0  1300   \n",
      "1435        1435   6950  76.0      1   Petrol  110       0.0          0  1600   \n",
      "\n",
      "      Doors  Weight  \n",
      "0     three    1165  \n",
      "1         3    1165  \n",
      "2         3    1165  \n",
      "3         3    1165  \n",
      "4         3    1170  \n",
      "...     ...     ...  \n",
      "1431      3    1025  \n",
      "1432      3    1015  \n",
      "1433      3    1015  \n",
      "1434      3    1015  \n",
      "1435      5    1114  \n",
      "\n",
      "[1436 rows x 11 columns]\n",
      "\n",
      "Data statistics\n",
      "         Unnamed: 0         Price          Age     MetColor    Automatic  \\\n",
      "count  1436.000000   1436.000000  1336.000000  1286.000000  1436.000000   \n",
      "mean    717.500000  10730.824513    55.672156     0.674961     0.055710   \n",
      "std     414.681806   3626.964585    18.589804     0.468572     0.229441   \n",
      "min       0.000000   4350.000000     1.000000     0.000000     0.000000   \n",
      "25%     358.750000   8450.000000    43.000000     0.000000     0.000000   \n",
      "50%     717.500000   9900.000000    60.000000     1.000000     0.000000   \n",
      "75%    1076.250000  11950.000000    70.000000     1.000000     0.000000   \n",
      "max    1435.000000  32500.000000    80.000000     1.000000     1.000000   \n",
      "\n",
      "                CC      Weight  \n",
      "count  1436.000000  1436.00000  \n",
      "mean   1566.827994  1072.45961  \n",
      "std     187.182436    52.64112  \n",
      "min    1300.000000  1000.00000  \n",
      "25%    1400.000000  1040.00000  \n",
      "50%    1600.000000  1070.00000  \n",
      "75%    1600.000000  1085.00000  \n",
      "max    2000.000000  1615.00000  \n"
     ]
    }
   ],
   "source": [
    "# Step 1: Import Libraries\n",
    "\n",
    "import numpy as np \n",
    "import pandas as pd\n",
    "from sklearn.preprocessing import LabelEncoder,OneHotEncoder\n",
    "\n",
    "# Step 2: Load Data\n",
    "        \n",
    "datasets = pd.read_csv('Datasets/Exercise-CarData.csv') \n",
    "print(\"\\nData :\\n\",datasets)\n",
    "print(\"\\nData statistics\\n\",datasets.describe())"
   ]
  },
  {
   "cell_type": "code",
   "execution_count": 2,
   "metadata": {
    "colab": {
     "base_uri": "https://localhost:8080/",
     "height": 330
    },
    "colab_type": "code",
    "executionInfo": {
     "elapsed": 1101,
     "status": "ok",
     "timestamp": 1594650226333,
     "user": {
      "displayName": "Hariom Pandya",
      "photoUrl": "https://lh3.googleusercontent.com/a-/AOh14Gg8d7lqNqBxgfXVdhraKxXVYdefhGJQ6fR34vxZkw=s64",
      "userId": "14308869011554137018"
     },
     "user_tz": -330
    },
    "id": "VQLSM3DrcP4V",
    "outputId": "9b552342-cd28-4771-b44c-d80dc6f5b8c1"
   },
   "outputs": [
    {
     "name": "stdout",
     "output_type": "stream",
     "text": [
      "\n",
      "\n",
      "Input : \n",
      " [[23.0 '46986' 'Diesel' ... 2000 'three' 1165]\n",
      " [23.0 '72937' 'Diesel' ... 2000 '3' 1165]\n",
      " [24.0 '41711' 'Diesel' ... 2000 '3' 1165]\n",
      " ...\n",
      " [nan '17016' 'Petrol' ... 1300 '3' 1015]\n",
      " [70.0 '??' nan ... 1300 '3' 1015]\n",
      " [76.0 '1' 'Petrol' ... 1600 '5' 1114]]\n",
      "\n",
      "\n",
      "Output: \n",
      " [13500 13750 13950 ...  8500  7250  6950]\n"
     ]
    }
   ],
   "source": [
    "# Step 3: Seprate Input and Output attributes\n",
    "\n",
    "X = datasets.iloc[:, 2:].values \n",
    "  \n",
    "Y = datasets.iloc[:, 1].values \n",
    "\n",
    "print(\"\\n\\nInput : \\n\", X) \n",
    "print(\"\\n\\nOutput: \\n\", Y) "
   ]
  },
  {
   "cell_type": "code",
   "execution_count": 3,
   "metadata": {
    "colab": {
     "base_uri": "https://localhost:8080/",
     "height": 260
    },
    "colab_type": "code",
    "executionInfo": {
     "elapsed": 1061,
     "status": "ok",
     "timestamp": 1594650236375,
     "user": {
      "displayName": "Hariom Pandya",
      "photoUrl": "https://lh3.googleusercontent.com/a-/AOh14Gg8d7lqNqBxgfXVdhraKxXVYdefhGJQ6fR34vxZkw=s64",
      "userId": "14308869011554137018"
     },
     "user_tz": -330
    },
    "id": "LVbYPUjpcP42",
    "outputId": "5e9ab44e-790f-47a6-f89a-105ed7d0ad28"
   },
   "outputs": [
    {
     "name": "stdout",
     "output_type": "stream",
     "text": [
      "\n",
      "\n",
      "Input : \n",
      " [[23.0 '46986' 1 ... 2000 'three' 1165]\n",
      " [23.0 '72937' 1 ... 2000 '3' 1165]\n",
      " [24.0 '41711' 1 ... 2000 '3' 1165]\n",
      " ...\n",
      " [nan '17016' 2 ... 1300 '3' 1015]\n",
      " [70.0 '??' 3 ... 1300 '3' 1015]\n",
      " [76.0 '1' 2 ... 1600 '5' 1114]]\n"
     ]
    }
   ],
   "source": [
    "# Step 4a: Apply LabelEncoder on the data to convert FuelType names into numeric values\n",
    "\n",
    "le = LabelEncoder()\n",
    "X[ : ,2] = le.fit_transform(X[ : ,2])\n",
    "print(\"\\n\\nInput : \\n\", X) "
   ]
  },
  {
   "cell_type": "code",
   "execution_count": 4,
   "metadata": {
    "colab": {
     "base_uri": "https://localhost:8080/",
     "height": 538
    },
    "colab_type": "code",
    "executionInfo": {
     "elapsed": 1327,
     "status": "ok",
     "timestamp": 1594650436047,
     "user": {
      "displayName": "Hariom Pandya",
      "photoUrl": "https://lh3.googleusercontent.com/a-/AOh14Gg8d7lqNqBxgfXVdhraKxXVYdefhGJQ6fR34vxZkw=s64",
      "userId": "14308869011554137018"
     },
     "user_tz": -330
    },
    "id": "k1BxFJcEcP5f",
    "outputId": "525bb9f2-23a9-4c21-ab8c-510d3988104b",
    "scrolled": false
   },
   "outputs": [
    {
     "name": "stdout",
     "output_type": "stream",
     "text": [
      "\n",
      "\n",
      "Dummy :\n",
      "       CNG  Diesel  Petrol\n",
      "0       0       1       0\n",
      "1       0       1       0\n",
      "2       0       1       0\n",
      "3       0       1       0\n",
      "4       0       1       0\n",
      "...   ...     ...     ...\n",
      "1431    0       0       1\n",
      "1432    0       0       1\n",
      "1433    0       0       1\n",
      "1434    0       0       0\n",
      "1435    0       0       1\n",
      "\n",
      "[1436 rows x 3 columns]\n",
      "\n",
      "\n",
      "Final Data :\n",
      "       CNG  Diesel  Petrol  Unnamed: 0  Price   Age     KM   HP  MetColor  \\\n",
      "0       0       1       0           0  13500  23.0  46986   90       1.0   \n",
      "1       0       1       0           1  13750  23.0  72937   90       1.0   \n",
      "2       0       1       0           2  13950  24.0  41711   90       NaN   \n",
      "3       0       1       0           3  14950  26.0  48000   90       0.0   \n",
      "4       0       1       0           4  13750  30.0  38500   90       0.0   \n",
      "...   ...     ...     ...         ...    ...   ...    ...  ...       ...   \n",
      "1431    0       0       1        1431   7500   NaN  20544   86       1.0   \n",
      "1432    0       0       1        1432  10845  72.0     ??   86       0.0   \n",
      "1433    0       0       1        1433   8500   NaN  17016   86       0.0   \n",
      "1434    0       0       0        1434   7250  70.0     ??   86       1.0   \n",
      "1435    0       0       1        1435   6950  76.0      1  110       0.0   \n",
      "\n",
      "      Automatic    CC  Doors  Weight  \n",
      "0             0  2000  three    1165  \n",
      "1             0  2000      3    1165  \n",
      "2             0  2000      3    1165  \n",
      "3             0  2000      3    1165  \n",
      "4             0  2000      3    1170  \n",
      "...         ...   ...    ...     ...  \n",
      "1431          0  1300      3    1025  \n",
      "1432          0  1300      3    1015  \n",
      "1433          0  1300      3    1015  \n",
      "1434          0  1300      3    1015  \n",
      "1435          0  1600      5    1114  \n",
      "\n",
      "[1436 rows x 13 columns]\n"
     ]
    }
   ],
   "source": [
    "# Step 4b: Use dummy variables from pandas library to create one column for each type of Fuel\n",
    "\n",
    "dummy = pd.get_dummies(datasets['FuelType'])\n",
    "print(\"\\n\\nDummy :\\n\",dummy)\n",
    "\n",
    "datasets = datasets.drop(['FuelType'],axis=1)\n",
    "datasets = pd.concat([dummy,datasets],axis=1)\n",
    "print(\"\\n\\nFinal Data :\\n\",datasets)"
   ]
  },
  {
   "cell_type": "code",
   "execution_count": null,
   "metadata": {},
   "outputs": [],
   "source": []
  }
 ],
 "metadata": {
  "colab": {
   "name": "2HandlingCategoricalData.ipynb",
   "provenance": []
  },
  "kernelspec": {
   "display_name": "Python 3",
   "language": "python",
   "name": "python3"
  },
  "language_info": {
   "codemirror_mode": {
    "name": "ipython",
    "version": 3
   },
   "file_extension": ".py",
   "mimetype": "text/x-python",
   "name": "python",
   "nbconvert_exporter": "python",
   "pygments_lexer": "ipython3",
   "version": "3.6.9"
  }
 },
 "nbformat": 4,
 "nbformat_minor": 1
}
