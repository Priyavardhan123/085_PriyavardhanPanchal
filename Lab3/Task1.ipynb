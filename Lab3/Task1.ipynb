{
 "cells": [
  {
   "cell_type": "markdown",
   "id": "e07f91d3",
   "metadata": {},
   "source": [
    "Task 1: Try the algo on Dataset2 - OneHotEncoding of features: and Train test Division 75%-25%"
   ]
  },
  {
   "cell_type": "code",
   "execution_count": 5,
   "id": "ed16192e",
   "metadata": {},
   "outputs": [
    {
     "name": "stdout",
     "output_type": "stream",
     "text": [
      "   Outlook Temp Wind Humidity Class\n",
      "0        R    H    F   Normal     N\n",
      "1        R    H    T     High     N\n",
      "2        O    H    F   Normal     Y\n",
      "3        S    M    F   Normal     N\n",
      "4        S    M    F   Normal     Y\n",
      "5        S    M    T      Low     Y\n",
      "6        O    C    T   Normal     Y\n",
      "7        R    C    F   Normal     Y\n",
      "8        R    C    F      Low     Y\n",
      "9        S    M    F     High     Y\n",
      "10       R    M    T     High     Y\n",
      "11       O    M    T      Low     Y\n",
      "12       O    H    F   Normal     Y\n",
      "13       S    M    T   Normal     N\n"
     ]
    }
   ],
   "source": [
    "from sklearn.naive_bayes import MultinomialNB\n",
    "import pandas as pd\n",
    "\n",
    "data = pd.read_csv(\"PracticeDataSets/Dataset2.csv\")\n",
    "print(data)"
   ]
  },
  {
   "cell_type": "code",
   "execution_count": 6,
   "id": "6a3a0c00",
   "metadata": {},
   "outputs": [
    {
     "name": "stdout",
     "output_type": "stream",
     "text": [
      "\n",
      "\n",
      "Final Data :\n",
      "     O  R  S  C  H  M  F  T  High  Low  Normal Class\n",
      "0   0  1  0  0  1  0  1  0     0    0       1     N\n",
      "1   0  1  0  0  1  0  0  1     1    0       0     N\n",
      "2   1  0  0  0  1  0  1  0     0    0       1     Y\n",
      "3   0  0  1  0  0  1  1  0     0    0       1     N\n",
      "4   0  0  1  0  0  1  1  0     0    0       1     Y\n",
      "5   0  0  1  0  0  1  0  1     0    1       0     Y\n",
      "6   1  0  0  1  0  0  0  1     0    0       1     Y\n",
      "7   0  1  0  1  0  0  1  0     0    0       1     Y\n",
      "8   0  1  0  1  0  0  1  0     0    1       0     Y\n",
      "9   0  0  1  0  0  1  1  0     1    0       0     Y\n",
      "10  0  1  0  0  0  1  0  1     1    0       0     Y\n",
      "11  1  0  0  0  0  1  0  1     0    1       0     Y\n",
      "12  1  0  0  0  1  0  1  0     0    0       1     Y\n",
      "13  0  0  1  0  0  1  0  1     0    0       1     N\n"
     ]
    }
   ],
   "source": [
    "dummy_humidity = pd.get_dummies(data['Humidity'])\n",
    "# print(\"\\n\\nDummy :\\n\",dummy)\n",
    "data = data.drop(['Humidity'],axis=1)\n",
    "data = pd.concat([dummy_humidity,data],axis=1)\n",
    "\n",
    "dummy_wind = pd.get_dummies(data['Wind'])\n",
    "# print(\"\\n\\nDummy :\\n\",dummy)\n",
    "data = data.drop(['Wind'],axis=1)\n",
    "data = pd.concat([dummy_wind,data],axis=1)\n",
    "# print(\"\\n\\nFinal Data :\\n\",data)\n",
    "\n",
    "dummy_temp = pd.get_dummies(data['Temp'])\n",
    "# print(\"\\n\\nDummy :\\n\",dummy)\n",
    "data = data.drop(['Temp'],axis=1)\n",
    "data = pd.concat([dummy_temp,data],axis=1)\n",
    "# print(\"\\n\\nFinal Data :\\n\",data)\n",
    "\n",
    "dummy_outlook = pd.get_dummies(data['Outlook'])\n",
    "# print(\"\\n\\nDummy :\\n\",dummy)\n",
    "data = data.drop(['Outlook'],axis=1)\n",
    "data = pd.concat([dummy_outlook,data],axis=1)\n",
    "# print(\"\\n\\nFinal Data :\\n\",data)\n",
    "\n",
    "print(\"\\n\\nFinal Data :\\n\",data)\n",
    "\n"
   ]
  },
  {
   "cell_type": "code",
   "execution_count": 7,
   "id": "85f8dd34",
   "metadata": {},
   "outputs": [
    {
     "name": "stdout",
     "output_type": "stream",
     "text": [
      "Features: ((0, 1, 0, 0, 1, 0, 1, 0, 0, 1, 0), (0, 1, 0, 0, 1, 0, 0, 1, 1, 0, 0), (1, 0, 0, 0, 1, 0, 1, 2, 0, 1, 0), (0, 0, 1, 0, 0, 1, 1, 3, 0, 1, 0), (0, 0, 1, 0, 0, 1, 1, 4, 0, 1, 0), (0, 0, 1, 0, 0, 1, 0, 5, 0, 0, 1), (1, 0, 0, 1, 0, 0, 0, 6, 0, 1, 0), (0, 1, 0, 1, 0, 0, 1, 7, 0, 1, 0), (0, 1, 0, 1, 0, 0, 1, 8, 0, 0, 1), (0, 0, 1, 0, 0, 1, 1, 9, 1, 0, 0), (0, 1, 0, 0, 0, 1, 0, 10, 1, 0, 0), (1, 0, 0, 0, 0, 1, 0, 11, 0, 0, 1), (1, 0, 0, 0, 1, 0, 1, 12, 0, 1, 0), (0, 0, 1, 0, 0, 1, 0, 13, 0, 1, 0))\n",
      "0     N\n",
      "1     N\n",
      "2     Y\n",
      "3     N\n",
      "4     Y\n",
      "5     Y\n",
      "6     Y\n",
      "7     Y\n",
      "8     Y\n",
      "9     Y\n",
      "10    Y\n",
      "11    Y\n",
      "12    Y\n",
      "13    N\n",
      "Name: Class, dtype: object\n"
     ]
    }
   ],
   "source": [
    "features=tuple(zip(data.O,data.R,data.S,data.C,data.H,data.M,data.F,data.T,data.High,data.Normal,data.Low))\n",
    "print(\"Features:\",features)\n",
    "\n",
    "labels = data.Class\n",
    "print(labels)"
   ]
  },
  {
   "cell_type": "code",
   "execution_count": 8,
   "id": "62d511cc",
   "metadata": {},
   "outputs": [
    {
     "data": {
      "text/plain": [
       "MultinomialNB()"
      ]
     },
     "execution_count": 8,
     "metadata": {},
     "output_type": "execute_result"
    }
   ],
   "source": [
    "model=MultinomialNB()\n",
    "model.fit(features,labels)"
   ]
  },
  {
   "cell_type": "markdown",
   "id": "5db1c975",
   "metadata": {},
   "source": [
    "(1) What will be the value of Play, if Outlook is ’Rainy’, Temperature is ’Mild’, Humidity =’Normal’, and Wind = ’False’?"
   ]
  },
  {
   "cell_type": "code",
   "execution_count": 9,
   "id": "933ed22b",
   "metadata": {},
   "outputs": [
    {
     "name": "stdout",
     "output_type": "stream",
     "text": [
      "Predicted Value: ['N']\n"
     ]
    }
   ],
   "source": [
    "predicted= model.predict([[0, 1, 0, 0, 0, 1, 1, 0, 0, 1, 0]]) # O  R  S  C  H  M  F  T  High  Normal  Low\n",
    "print(\"Predicted Value:\", predicted)"
   ]
  },
  {
   "cell_type": "markdown",
   "id": "a397580b",
   "metadata": {},
   "source": [
    "(2) What will be the value of Play, if Outlook is ’Sunny’, Temeprature is ’Cool’, Humidity =’High’, and Wind = ’True’?"
   ]
  },
  {
   "cell_type": "code",
   "execution_count": 10,
   "id": "88ae2a2d",
   "metadata": {},
   "outputs": [
    {
     "name": "stdout",
     "output_type": "stream",
     "text": [
      "Predicted Value: ['Y']\n"
     ]
    }
   ],
   "source": [
    "predicted= model.predict([[0, 0, 1, 1, 0, 0, 0, 1, 1, 0, 0]]) # O  R  S  C  H  M  F  T  High  Normal  Low\n",
    "print(\"Predicted Value:\", predicted)"
   ]
  },
  {
   "cell_type": "code",
   "execution_count": null,
   "id": "e808714f",
   "metadata": {},
   "outputs": [],
   "source": []
  }
 ],
 "metadata": {
  "kernelspec": {
   "display_name": "Python 3",
   "language": "python",
   "name": "python3"
  },
  "language_info": {
   "codemirror_mode": {
    "name": "ipython",
    "version": 3
   },
   "file_extension": ".py",
   "mimetype": "text/x-python",
   "name": "python",
   "nbconvert_exporter": "python",
   "pygments_lexer": "ipython3",
   "version": "3.6.9"
  }
 },
 "nbformat": 4,
 "nbformat_minor": 5
}
